{
 "cells": [
  {
   "cell_type": "markdown",
   "id": "409f0f4a",
   "metadata": {},
   "source": [
    "**Ödev-1:** Kullanıcıdan maaş bilgisini istenir ve bu bilgiye göre maaşından ne kadar vergi kesileceğini hesaplanır. Kullanıcının geliri;\n",
    "\n",
    "1. 10000 ve altındaysa maaşından %5 kesinti olur.\n",
    "2. 25000 ve altındaysa maaşından %10 kesinti olur.\n",
    "3. 45000 ve altındaysa maaşından %25 kesinti olur.\n",
    "4. Diğer koşullarda %30 kesinti olur.\n",
    "\n",
    "Bu durumlara göre kullanıcının yeni maaşı yazdırılır."
   ]
  },
  {
   "cell_type": "code",
   "execution_count": null,
   "id": "5246e510",
   "metadata": {},
   "outputs": [],
   "source": [
    "salary = int(input(\"Lütfen Maaşınızı Giriniz:\"))\n",
    "\n",
    "if salary <= 10000:\n",
    "    newsalary = salary-salary*0.05\n",
    "\n",
    "\n",
    "elif salary <= 25000:\n",
    "    newsalary = salary-salary*0.1\n",
    "\n",
    "\n",
    "elif salary <= 45000:\n",
    "    newsalary = salary-salary*0.25\n",
    "\n",
    "\n",
    "else:\n",
    "    newsalary = salary-salary*0.30\n",
    "\n",
    "print(\"New Salary\", newsalary)"
   ]
  },
  {
   "cell_type": "markdown",
   "id": "f5fe8798",
   "metadata": {},
   "source": [
    "**Ödev-2:** Kullanıcıdan kullanıcı adı ve şifre oluşturmasını istenir. Şifrenin uzunluğu altı haneye ulaşmışsa hesabınız oluşturuldu mesajı alınır, altı haneden azsa altı haneli şifre oluşturması gerektiğinin mesajı alınır. *(Sadece koşul kullanılması yeterli.)*"
   ]
  },
  {
   "cell_type": "code",
   "execution_count": null,
   "id": "6acffe57",
   "metadata": {},
   "outputs": [],
   "source": [
    "userName = input(\"Please, nter your nickname: \")\n",
    "password = input(\"Please, enter your password!!\")\n",
    "\n",
    "if len(password) == 6:\n",
    "    print(\"Account Created\")\n",
    "    \n",
    "else:\n",
    "    print(\"your password entry should be 6 character\")\n"
   ]
  },
  {
   "cell_type": "markdown",
   "id": "aaccf11a",
   "metadata": {},
   "source": [
    "**Ödev-3:** Bir önceki örnek geliştirilir.\n",
    "\n",
    "1. Kullanıcı girdiği şifre 5 ve 10 hane arasında olmak zorunda.\n",
    "2. Eğer bu koşula uyuyorsa \"Hesabınız oluşturuldu.\" mesajı alır.\n",
    "3. Koşulu sağlamıyorsa \"Lütfen girdiniz şifre 5 haneden az 10 haneden fazla olmasın!\" uyarısı alır.\n",
    "4. Bunu oluştururken kullanıcı istediğimiz şartlarda şifre oluşturana kadar sormaya devam eder"
   ]
  },
  {
   "cell_type": "code",
   "execution_count": null,
   "id": "039e50dc",
   "metadata": {},
   "outputs": [],
   "source": [
    "userName = input(\"Please enter nickname:\")\n",
    "while True:\n",
    "    password = input(\"Please enter password.\")\n",
    "    if 5<len(password) <30:\n",
    "        print(\"Account Created\")\n",
    "    else:\n",
    "        print(\"Your password is smaller than 5 character, bigger than 30 character!\")\n"
   ]
  },
  {
   "cell_type": "markdown",
   "id": "8ba81863",
   "metadata": {},
   "source": [
    "**Ödev-4:** Kullanıcıdan isim ve şifre isteyeceğiz ve şifre girişi için üç hak verilir.\n",
    "\n",
    "1. Eğer önceden tanımlı şifre ile kullanıcıdan gelen şifre aynıysa \"Giriş yapıldı.\" yazar.\n",
    "2. Şifre girişi yanlışsa \"Yanlış şifre girildi!\" uyarısı verilsin ve üç yanlış denemede program biter.\n",
    "3. Tercihe göre kalan hak bilgisi verilir."
   ]
  },
  {
   "cell_type": "code",
   "execution_count": null,
   "id": "8f45ea0c",
   "metadata": {},
   "outputs": [],
   "source": [
    "orginalpass = \"selam\"\n",
    "userName = input(\"Please enter nickname:\")\n",
    "for i in range(3,0,-1)\n",
    "    password = input(\"Please enter password.\")\n",
    "    if password == orginalpass:\n",
    "        print(\"Entry is succesfuly\")\n",
    "        break\n",
    "    else:\n",
    "        print(\"Wrong passaword, Try again\")\n",
    "        print(i-1, \"Left entry\")\n"
   ]
  }
 ],
 "metadata": {
  "kernelspec": {
   "display_name": "Python 3 (ipykernel)",
   "language": "python",
   "name": "python3"
  },
  "language_info": {
   "codemirror_mode": {
    "name": "ipython",
    "version": 3
   },
   "file_extension": ".py",
   "mimetype": "text/x-python",
   "name": "python",
   "nbconvert_exporter": "python",
   "pygments_lexer": "ipython3",
   "version": "3.9.12"
  }
 },
 "nbformat": 4,
 "nbformat_minor": 5
}
