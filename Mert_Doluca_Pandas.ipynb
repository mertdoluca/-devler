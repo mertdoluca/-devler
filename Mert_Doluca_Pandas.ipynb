{
 "cells": [
  {
   "cell_type": "code",
   "execution_count": 3,
   "id": "e3632fbc",
   "metadata": {},
   "outputs": [],
   "source": [
    "sozluk = {\"Kategori\": [\"Giyim\",\"Giyim\", \"Ayakkabı\",\"Aksesuar\",\"Ayakkabı\",\"Giyim\",\"Aksesuar\",\"Aksesuar\",\"Ayakkabı\",\"Giyim\"],\n",
    "         \"Ürün\" : [\"Kazak\",\"T-shirt\",\"Sandalet\",\"Küpe\",\"Spor Ayakkabı\",\"Pantolon\",\"Kolye\",\"Yüzük\",\"Çizme\",\"Ceket\"],\n",
    "         \"Fiyat\" : [300,180,450,50,700,400,150,80,850,900]}"
   ]
  },
  {
   "cell_type": "markdown",
   "id": "e380a30f",
   "metadata": {},
   "source": [
    "##### 1. Yukarıdaki sözlüğü bir DataFrame haline getirin."
   ]
  },
  {
   "cell_type": "code",
   "execution_count": null,
   "id": "fa7a1757",
   "metadata": {},
   "outputs": [],
   "source": [
    "import pandas as pd\n",
    "dictionarys_df=pd.DataFrame(dictionarys)"
   ]
  },
  {
   "cell_type": "markdown",
   "id": "fe81a0e9",
   "metadata": {},
   "source": [
    "##### 2. Aşağıdaki işlemleri dataframe üzerinde uygulayalım.\n",
    "- 2.indexde bulunan kategoriyi bulalım (Sadece kategori bilgisi) \n",
    "- 2.indexde bulunan ürünü bulalım (Sadece ürün bilgisi)\n",
    "- 4.indexden 9.indexe kadar olan verileri bulalım (Kategori,ürün,fiyat bilgisi beraber)\n",
    "- 1.indexden 6.indexe kadar olan ürünleri bulalım (Sadece ürün bilgisi)\n"
   ]
  },
  {
   "cell_type": "code",
   "execution_count": null,
   "id": "2baa9073",
   "metadata": {},
   "outputs": [],
   "source": [
    "dictionarys_df.loc[2,\"Kategori\"]\n",
    "dictionarys_df.iloc[2,0]\n",
    "\n",
    "dictionarys_df.loc[2,\"ürün\"]\n",
    "dictionarys_df.iloc[2,1]\n",
    "\n",
    "dictionarys_df.loc[2,\"fiyat\"]\n",
    "dictionarys_df.iloc[2,2]\n",
    "\n",
    "dictionarys_df.loc[4:8,\"Kategori\":\"Fiyat\"]\n",
    "dictionarys_df.iloc[3:9,:]\n",
    "\n",
    "dictionarys_df.loc[1:15,\"Ürün\"]\n",
    "dictionarys_df.iloc[1:6,1]"
   ]
  },
  {
   "cell_type": "markdown",
   "id": "18d5e3a5",
   "metadata": {},
   "source": [
    "##### 3. Aşağıdaki işlemleri dataframe üzerinde uygulayalım.\n",
    "- Giyim kategorisinde bulunan ürünleri gösterin\n",
    "- Ayakkabı kategorisinde bulunan ürünleri gösterin\n",
    "- Aksesuar kategorisinde bulunan ürünleri gösterin"
   ]
  },
  {
   "cell_type": "code",
   "execution_count": null,
   "id": "c12f603a",
   "metadata": {},
   "outputs": [],
   "source": [
    "dictionarys_df[dictionarys_df[\"Kategori\"] == \"Giyim\"]\n",
    "\n",
    "dictionarys_df[dictionarys_df[\"Kategori\" == \"Ayakkabı\"]]\n",
    "\n",
    "dictionarys_df[dictionarys_df[\"Kategori\" == \"Aksesuar\"]]"
   ]
  },
  {
   "cell_type": "markdown",
   "id": "5c31302a",
   "metadata": {},
   "source": [
    "##### 4 Aşağıdaki işlemleri dataframe üzerinde uygulayalım.\n",
    "- Giyim kategorisinde fiyatı 300'den fazla olan ürünleri gösterin\n",
    "- Ayakkabı kategorisinde fiyatı 600'den az olan ürünleri gösterin\n",
    "- Aksesuar kategorisinde fiyatı 100'den fazla olan aksesuarı gösterin"
   ]
  },
  {
   "cell_type": "code",
   "execution_count": null,
   "id": "cc96c65b",
   "metadata": {},
   "outputs": [],
   "source": [
    "dictionarys_df[(dictionarys_df[\"Kategori\"] == \"Giyim\") & (dictionarys_df[\"Fiyat\"] >300)]\n",
    "\n",
    "dictionarys_df[(dictionarys_df[\"Kategori\"] == \"Ayakkabı\") & (dictionarys_df[\"Fiyat\"] <600)]\n",
    "\n",
    "dictionarys_df[(dictionarys_df[\"Kategori\"] == \"Aksesuar\") & (dictionarys_df[\"Fiyat\"] >100)]"
   ]
  }
 ],
 "metadata": {
  "kernelspec": {
   "display_name": "Python 3 (ipykernel)",
   "language": "python",
   "name": "python3"
  },
  "language_info": {
   "codemirror_mode": {
    "name": "ipython",
    "version": 3
   },
   "file_extension": ".py",
   "mimetype": "text/x-python",
   "name": "python",
   "nbconvert_exporter": "python",
   "pygments_lexer": "ipython3",
   "version": "3.9.12"
  }
 },
 "nbformat": 4,
 "nbformat_minor": 5
}
